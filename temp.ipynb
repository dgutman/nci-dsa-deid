{
 "cells": [
  {
   "cell_type": "code",
   "execution_count": 16,
   "metadata": {},
   "outputs": [],
   "source": [
    "import girder_client\n",
    "from pprint import pprint\n",
    "import requests"
   ]
  },
  {
   "cell_type": "code",
   "execution_count": 2,
   "metadata": {},
   "outputs": [],
   "source": [
    "gc = girder_client.GirderClient(apiUrl='https://megabrain.neurology.emory.edu/api/v1')"
   ]
  },
  {
   "cell_type": "code",
   "execution_count": 21,
   "metadata": {},
   "outputs": [],
   "source": [
    "params = {'limit': 1, 'offset': 0, 'sort': 'name', 'sortdir': 1}\n",
    "\n",
    "\n",
    "response = requests.get('https://megabrain.neurology.emory.edu/api/v1/item/641bfe04867536bb7a236ca6')\n",
    "\n",
    "if response.status_code == 200:\n",
    "    data = response.json()\n",
    "    pprint(data)\n",
    "else:\n",
    "    print(f'Error {response.status_code}')"
   ]
  },
  {
   "cell_type": "code",
   "execution_count": 8,
   "metadata": {},
   "outputs": [
    {
     "name": "stdout",
     "output_type": "stream",
     "text": [
      "{'authToken': {'expires': '2024-07-22T19:41:14.272000+00:00',\n",
      "               'scope': ['core.user_auth'],\n",
      "               'token': '2y4DJ8CgZAri6knXTuQ6Ww1PMV9Y7Us1SuPj8crzYoygxF7cm7zCiC8vsWWZh3ie'},\n",
      " 'message': 'Login succeeded.',\n",
      " 'user': {'_accessLevel': 2,\n",
      "          '_id': '64234cfe1b916dfa9d99468c',\n",
      "          '_modelType': 'user',\n",
      "          'admin': True,\n",
      "          'created': '2023-03-28T20:24:30.656000+00:00',\n",
      "          'email': 'jvizcar@emory.edu',\n",
      "          'emailVerified': False,\n",
      "          'firstName': 'Juan',\n",
      "          'groupInvites': [],\n",
      "          'groups': ['64ed10427ba1c8b1de01e351'],\n",
      "          'lastName': 'Vizcarra',\n",
      "          'login': 'jvizcar',\n",
      "          'otp': False,\n",
      "          'public': True,\n",
      "          'size': 321539630,\n",
      "          'status': 'enabled'}}\n"
     ]
    }
   ],
   "source": [
    "authentication_resp = {\n",
    "  \"authToken\": {\n",
    "    \"expires\": \"2024-07-22T19:41:14.272000+00:00\",\n",
    "    \"scope\": [\n",
    "      \"core.user_auth\"\n",
    "    ],\n",
    "    \"token\": \"2y4DJ8CgZAri6knXTuQ6Ww1PMV9Y7Us1SuPj8crzYoygxF7cm7zCiC8vsWWZh3ie\"\n",
    "  },\n",
    "  \"message\": \"Login succeeded.\",\n",
    "  \"user\": {\n",
    "    \"_accessLevel\": 2,\n",
    "    \"_id\": \"64234cfe1b916dfa9d99468c\",\n",
    "    \"_modelType\": \"user\",\n",
    "    \"admin\": True,\n",
    "    \"created\": \"2023-03-28T20:24:30.656000+00:00\",\n",
    "    \"email\": \"jvizcar@emory.edu\",\n",
    "    \"emailVerified\": False,\n",
    "    \"firstName\": \"Juan\",\n",
    "    \"groupInvites\": [],\n",
    "    \"groups\": [\n",
    "      \"64ed10427ba1c8b1de01e351\"\n",
    "    ],\n",
    "    \"lastName\": \"Vizcarra\",\n",
    "    \"login\": \"jvizcar\",\n",
    "    \"otp\": False,\n",
    "    \"public\": True,\n",
    "    \"size\": 321539630,\n",
    "    \"status\": \"enabled\"\n",
    "  }\n",
    "}\n",
    "\n",
    "pprint(authentication_resp)"
   ]
  },
  {
   "cell_type": "code",
   "execution_count": 15,
   "metadata": {},
   "outputs": [
    {
     "ename": "HttpError",
     "evalue": "HTTP error 401: GET https://megabrain.neurology.emory.edu/api/v1/item/641bfe04867536bb7a236ca6?authToken=2y4DJ8CgZAri6knXTuQ6Ww1PMV9Y7Us1SuPj8crzYoygxF7cm7zCiC8vsWWZh3ie\nResponse text: {\"message\": \"Read access denied for folder 641bfdd9867536bb7a236c3d (user None).\", \"type\": \"access\"}",
     "output_type": "error",
     "traceback": [
      "\u001b[0;31m---------------------------------------------------------------------------\u001b[0m",
      "\u001b[0;31mHttpError\u001b[0m                                 Traceback (most recent call last)",
      "Cell \u001b[0;32mIn[15], line 1\u001b[0m\n\u001b[0;32m----> 1\u001b[0m item \u001b[38;5;241m=\u001b[39m \u001b[43mgc\u001b[49m\u001b[38;5;241;43m.\u001b[39;49m\u001b[43mget\u001b[49m\u001b[43m(\u001b[49m\n\u001b[1;32m      2\u001b[0m \u001b[43m    \u001b[49m\u001b[38;5;124;43m\"\u001b[39;49m\u001b[38;5;124;43mitem/641bfe04867536bb7a236ca6\u001b[39;49m\u001b[38;5;124;43m\"\u001b[39;49m\u001b[43m,\u001b[49m\u001b[43m \u001b[49m\u001b[43mparameters\u001b[49m\u001b[38;5;241;43m=\u001b[39;49m\u001b[43m{\u001b[49m\u001b[38;5;124;43m\"\u001b[39;49m\u001b[38;5;124;43mauthToken\u001b[39;49m\u001b[38;5;124;43m\"\u001b[39;49m\u001b[43m:\u001b[49m\u001b[43m \u001b[49m\u001b[38;5;124;43m\"\u001b[39;49m\u001b[38;5;124;43m2y4DJ8CgZAri6knXTuQ6Ww1PMV9Y7Us1SuPj8crzYoygxF7cm7zCiC8vsWWZh3ie\u001b[39;49m\u001b[38;5;124;43m\"\u001b[39;49m\u001b[43m}\u001b[49m\n\u001b[1;32m      3\u001b[0m \u001b[43m)\u001b[49m\n",
      "File \u001b[0;32m~/code/nci-dsa-deid/env/lib/python3.10/site-packages/girder_client/__init__.py:471\u001b[0m, in \u001b[0;36mGirderClient.get\u001b[0;34m(self, path, parameters, jsonResp)\u001b[0m\n\u001b[1;32m    467\u001b[0m \u001b[38;5;28;01mdef\u001b[39;00m \u001b[38;5;21mget\u001b[39m(\u001b[38;5;28mself\u001b[39m, path, parameters\u001b[38;5;241m=\u001b[39m\u001b[38;5;28;01mNone\u001b[39;00m, jsonResp\u001b[38;5;241m=\u001b[39m\u001b[38;5;28;01mTrue\u001b[39;00m):\n\u001b[1;32m    468\u001b[0m \u001b[38;5;250m    \u001b[39m\u001b[38;5;124;03m\"\"\"\u001b[39;00m\n\u001b[1;32m    469\u001b[0m \u001b[38;5;124;03m    Convenience method to call :py:func:`sendRestRequest` with the 'GET' HTTP method.\u001b[39;00m\n\u001b[1;32m    470\u001b[0m \u001b[38;5;124;03m    \"\"\"\u001b[39;00m\n\u001b[0;32m--> 471\u001b[0m     \u001b[38;5;28;01mreturn\u001b[39;00m \u001b[38;5;28;43mself\u001b[39;49m\u001b[38;5;241;43m.\u001b[39;49m\u001b[43msendRestRequest\u001b[49m\u001b[43m(\u001b[49m\u001b[38;5;124;43m'\u001b[39;49m\u001b[38;5;124;43mGET\u001b[39;49m\u001b[38;5;124;43m'\u001b[39;49m\u001b[43m,\u001b[49m\u001b[43m \u001b[49m\u001b[43mpath\u001b[49m\u001b[43m,\u001b[49m\u001b[43m \u001b[49m\u001b[43mparameters\u001b[49m\u001b[43m,\u001b[49m\u001b[43m \u001b[49m\u001b[43mjsonResp\u001b[49m\u001b[38;5;241;43m=\u001b[39;49m\u001b[43mjsonResp\u001b[49m\u001b[43m)\u001b[49m\n",
      "File \u001b[0;32m~/code/nci-dsa-deid/env/lib/python3.10/site-packages/girder_client/__init__.py:463\u001b[0m, in \u001b[0;36mGirderClient.sendRestRequest\u001b[0;34m(self, method, path, parameters, data, files, json, headers, jsonResp, **kwargs)\u001b[0m\n\u001b[1;32m    461\u001b[0m         \u001b[38;5;28;01mreturn\u001b[39;00m result\n\u001b[1;32m    462\u001b[0m \u001b[38;5;28;01melse\u001b[39;00m:\n\u001b[0;32m--> 463\u001b[0m     \u001b[38;5;28;01mraise\u001b[39;00m HttpError(\n\u001b[1;32m    464\u001b[0m         status\u001b[38;5;241m=\u001b[39mresult\u001b[38;5;241m.\u001b[39mstatus_code, url\u001b[38;5;241m=\u001b[39mresult\u001b[38;5;241m.\u001b[39murl, method\u001b[38;5;241m=\u001b[39mmethod, text\u001b[38;5;241m=\u001b[39mresult\u001b[38;5;241m.\u001b[39mtext,\n\u001b[1;32m    465\u001b[0m         response\u001b[38;5;241m=\u001b[39mresult)\n",
      "\u001b[0;31mHttpError\u001b[0m: HTTP error 401: GET https://megabrain.neurology.emory.edu/api/v1/item/641bfe04867536bb7a236ca6?authToken=2y4DJ8CgZAri6knXTuQ6Ww1PMV9Y7Us1SuPj8crzYoygxF7cm7zCiC8vsWWZh3ie\nResponse text: {\"message\": \"Read access denied for folder 641bfdd9867536bb7a236c3d (user None).\", \"type\": \"access\"}"
     ]
    }
   ],
   "source": [
    "item = gc.get(\n",
    "    \"item/641bfe04867536bb7a236ca6\", parameters={\"authToken\": \"2y4DJ8CgZAri6knXTuQ6Ww1PMV9Y7Us1SuPj8crzYoygxF7cm7zCiC8vsWWZh3ie\"}\n",
    ")"
   ]
  }
 ],
 "metadata": {
  "kernelspec": {
   "display_name": "env",
   "language": "python",
   "name": "python3"
  },
  "language_info": {
   "codemirror_mode": {
    "name": "ipython",
    "version": 3
   },
   "file_extension": ".py",
   "mimetype": "text/x-python",
   "name": "python",
   "nbconvert_exporter": "python",
   "pygments_lexer": "ipython3",
   "version": "3.10.12"
  }
 },
 "nbformat": 4,
 "nbformat_minor": 2
}
