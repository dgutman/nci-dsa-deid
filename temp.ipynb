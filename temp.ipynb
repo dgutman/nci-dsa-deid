{
 "cells": [
  {
   "cell_type": "code",
   "execution_count": null,
   "metadata": {},
   "outputs": [],
   "source": [
    "import girder_client\n",
    "from pprint import pprint\n",
    "import requests"
   ]
  },
  {
   "cell_type": "code",
   "execution_count": null,
   "metadata": {},
   "outputs": [],
   "source": [
    "gc = girder_client.GirderClient(apiUrl='https://megabrain.neurology.emory.edu/api/v1')"
   ]
  },
  {
   "cell_type": "code",
   "execution_count": null,
   "metadata": {},
   "outputs": [],
   "source": [
    "params = {'limit': 1, 'offset': 0, 'sort': 'name', 'sortdir': 1}\n",
    "\n",
    "\n",
    "response = requests.get('https://megabrain.neurology.emory.edu/api/v1/item/641bfe04867536bb7a236ca6')\n",
    "\n",
    "if response.status_code == 200:\n",
    "    data = response.json()\n",
    "    pprint(data)\n",
    "else:\n",
    "    print(f'Error {response.status_code}')"
   ]
  }
 ],
 "metadata": {
  "kernelspec": {
   "display_name": "env",
   "language": "python",
   "name": "python3"
  },
  "language_info": {
   "codemirror_mode": {
    "name": "ipython",
    "version": 3
   },
   "file_extension": ".py",
   "mimetype": "text/x-python",
   "name": "python",
   "nbconvert_exporter": "python",
   "pygments_lexer": "ipython3",
   "version": "3.10.12"
  }
 },
 "nbformat": 4,
 "nbformat_minor": 2
}
